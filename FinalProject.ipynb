{
 "cells": [
  {
   "cell_type": "code",
   "execution_count": 3,
   "metadata": {},
   "outputs": [
    {
     "name": "stdout",
     "output_type": "stream",
     "text": [
      "owen added to contacts with phone number: 34522 and email: hi\n",
      "{'owen': [34522, 'hi']}\n",
      "1 contact\n"
     ]
    }
   ],
   "source": [
    "contacts = {} #initiates open dictionary\n",
    "\n",
    "def new_contact(name = 'You forgot their name!', phone_number = 'no phone number :(', email = 'none :('): #defines add_contact function\n",
    "    contacts[name] = [phone_number, email]\n",
    "    print(f\"{name} added to contacts with phone number: {phone_number} and email: {email}\")\n",
    "    \n",
    "def add_contact():\n",
    "    while True:\n",
    "        new_contact(input('enter contact name:'), int(input('enter contact phone number:')), input('enter contact email:'))\n",
    "        x = input('Add another?')\n",
    "        if x == 'No' or x == 'no':\n",
    "            break\n",
    "        else:\n",
    "            continue\n",
    "\n",
    "def delete_contact(name): #defines delete_contact function\n",
    "    if name in contacts:\n",
    "        del contacts[name]\n",
    "        print('{name} deleted from from contacts!')\n",
    "    else:\n",
    "        print('That contact does not exist!')\n",
    "\n",
    "def delete_all(): #defines delete_all function\n",
    "    while len(contacts) != 0: \n",
    "        for key in list(contacts.keys()): #iterates through a list of contact's keys\n",
    "            if key != 'none':\n",
    "                del contacts[key]\n",
    "    print('No more contacts!')\n",
    "\n",
    "\n",
    "def find_contact(name): #defines find_contact function\n",
    "    if name in contacts:\n",
    "        print(f\"{name}'s phone number is {contacts[name][0]} and their email is {contacts[name][1]}!\")\n",
    "    else:\n",
    "        print('{name} is not in your contacts silly!')\n",
    "\n",
    "class count: #counts the number of contacts\n",
    "    def __init__(self):\n",
    "        self.number = 0\n",
    "    \n",
    "    def contacts(self):\n",
    "        for i in contacts:\n",
    "            self.number += 1\n",
    "        if self.number > 1:\n",
    "            print(self.number, 'contacts')\n",
    "        else:\n",
    "            print(self.number, 'contact')\n",
    "\n",
    "import csv\n",
    "\n",
    "def save_contacts():\n",
    "    with open(\"contacts.csv\", \"w\", newline=\"\") as fp: # Open a csv file for writing\n",
    "        \n",
    "        writer = csv.DictWriter(fp, fieldnames=contacts.keys()) # Create a writer object\n",
    "\n",
    "        writer.writeheader() # Write the header row\n",
    "\n",
    "        writer.writerow(contacts) # Write the data rows\n",
    "        print('Contacts saved!')\n",
    "\n",
    "if __name__ == \"__main__\":\n",
    "    count = count()\n",
    "\n",
    "    add_contact()\n",
    "    \n",
    "    print(contacts)\n",
    "    count.contacts()\n"
   ]
  }
 ],
 "metadata": {
  "kernelspec": {
   "display_name": "Python 3",
   "language": "python",
   "name": "python3"
  },
  "language_info": {
   "codemirror_mode": {
    "name": "ipython",
    "version": 3
   },
   "file_extension": ".py",
   "mimetype": "text/x-python",
   "name": "python",
   "nbconvert_exporter": "python",
   "pygments_lexer": "ipython3",
   "version": "3.11.1"
  },
  "orig_nbformat": 4,
  "vscode": {
   "interpreter": {
    "hash": "aee8b7b246df8f9039afb4144a1f6fd8d2ca17a180786b69acc140d282b71a49"
   }
  }
 },
 "nbformat": 4,
 "nbformat_minor": 2
}
